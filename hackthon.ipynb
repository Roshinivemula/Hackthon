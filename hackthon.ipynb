{
 "cells": [
  {
   "cell_type": "code",
   "execution_count": 1,
   "id": "122379df",
   "metadata": {},
   "outputs": [],
   "source": [
    "import pandas as pd\n",
    "import matplotlib.pyplot as plt\n",
    "import seaborn as sns"
   ]
  },
  {
   "cell_type": "code",
   "execution_count": 2,
   "id": "8341a8d0",
   "metadata": {},
   "outputs": [
    {
     "name": "stdout",
     "output_type": "stream",
     "text": [
      "(9742, 3)\n"
     ]
    }
   ],
   "source": [
    "df =pd.read_csv(\"movies.csv\")\n",
    "print(df.shape)"
   ]
  },
  {
   "cell_type": "code",
   "execution_count": 3,
   "id": "0168c256",
   "metadata": {},
   "outputs": [
    {
     "name": "stdout",
     "output_type": "stream",
     "text": [
      "(100836, 4)\n"
     ]
    }
   ],
   "source": [
    "df1 = pd.read_csv(\"ratings.csv\")\n",
    "print(df1.shape)"
   ]
  },
  {
   "cell_type": "code",
   "execution_count": 4,
   "id": "97224c3e",
   "metadata": {},
   "outputs": [
    {
     "data": {
      "text/plain": [
       "Index(['userId', 'movieId', 'rating', 'timestamp'], dtype='object')"
      ]
     },
     "execution_count": 4,
     "metadata": {},
     "output_type": "execute_result"
    }
   ],
   "source": [
    "df1.columns"
   ]
  },
  {
   "cell_type": "code",
   "execution_count": 5,
   "id": "c2e93ae3",
   "metadata": {},
   "outputs": [],
   "source": [
    "unique = df1['userId'].unique()"
   ]
  },
  {
   "cell_type": "code",
   "execution_count": 6,
   "id": "7e441c1c",
   "metadata": {},
   "outputs": [],
   "source": [
    "len_of = len(unique)"
   ]
  },
  {
   "cell_type": "code",
   "execution_count": 7,
   "id": "be8b0a5d",
   "metadata": {},
   "outputs": [
    {
     "name": "stdout",
     "output_type": "stream",
     "text": [
      "610\n"
     ]
    }
   ],
   "source": [
    "print(len_of)"
   ]
  },
  {
   "cell_type": "code",
   "execution_count": 8,
   "id": "96205d59",
   "metadata": {},
   "outputs": [],
   "source": [
    "movie_Id = 589"
   ]
  },
  {
   "cell_type": "code",
   "execution_count": 9,
   "id": "d4d7beb2",
   "metadata": {},
   "outputs": [],
   "source": [
    "filtered_off = df1[df1['movieId']==movie_Id]"
   ]
  },
  {
   "cell_type": "code",
   "execution_count": 10,
   "id": "02661987",
   "metadata": {},
   "outputs": [
    {
     "name": "stdout",
     "output_type": "stream",
     "text": [
      "3.970982142857143\n"
     ]
    }
   ],
   "source": [
    "average_rate = filtered_off['rating'].mean()\n",
    "print(average_rate)"
   ]
  },
  {
   "cell_type": "code",
   "execution_count": 11,
   "id": "073a45ce",
   "metadata": {},
   "outputs": [],
   "source": [
    "#user_id = 2959\n",
    "filter_of = df1[df1['userId']== 2959]"
   ]
  },
  {
   "cell_type": "code",
   "execution_count": 12,
   "id": "b3284924",
   "metadata": {},
   "outputs": [
    {
     "data": {
      "image/png": "[encoded data removed]",
      "text/plain": [
       "<Figure size 720x432 with 1 Axes>"
      ]
     },
     "metadata": {
      "needs_background": "light"
     },
     "output_type": "display_data"
    }
   ],
   "source": [
    "plt.figure(figsize=(10,6))\n",
    "sns.histplot(filter_of['rating'], kde=True, bins = 10)\n",
    "plt.title(\"Distruibution\")\n",
    "plt.show()"
   ]
  },
  {
   "cell_type": "code",
   "execution_count": 24,
   "id": "fa9fe4ce",
   "metadata": {},
   "outputs": [],
   "source": [
    "groupe = df1.groupby('movieId')['rating'].agg(['count','mean']).reset_index()"
   ]
  },
  {
   "cell_type": "code",
   "execution_count": 25,
   "id": "44dd3c78",
   "metadata": {},
   "outputs": [],
   "source": [
    "fill=groupe[groupe['count'] > 50]"
   ]
  },
  {
   "cell_type": "code",
   "execution_count": 15,
   "id": "eda19cd5",
   "metadata": {},
   "outputs": [],
   "source": [
    "fill.to_csv('fill.csv',index=False)"
   ]
  },
  {
   "cell_type": "code",
   "execution_count": 22,
   "id": "d7772ad0",
   "metadata": {},
   "outputs": [
    {
     "name": "stdout",
     "output_type": "stream",
     "text": [
      "356.0\n"
     ]
    }
   ],
   "source": [
    "max_count=fill.loc[fill['count'].idxmax()]\n",
    "movie=max_count['movieId']\n",
    "print(movie)"
   ]
  },
  {
   "cell_type": "code",
   "execution_count": 26,
   "id": "9b7c4948",
   "metadata": {},
   "outputs": [
    {
     "name": "stdout",
     "output_type": "stream",
     "text": [
      "      movieId  count      mean\n",
      "0           1    215  3.920930\n",
      "1           2    110  3.431818\n",
      "2           3     52  3.259615\n",
      "5           6    102  3.946078\n",
      "6           7     54  3.185185\n",
      "...       ...    ...       ...\n",
      "8287   106782     54  3.916667\n",
      "8354   109374     52  3.778846\n",
      "8358   109487     73  3.993151\n",
      "8457   112852     59  4.050847\n",
      "8673   122904     54  3.833333\n",
      "\n",
      "[436 rows x 3 columns]\n"
     ]
    }
   ],
   "source": [
    "print(fill)"
   ]
  },
  {
   "cell_type": "code",
   "execution_count": null,
   "id": "a70453af",
   "metadata": {},
   "outputs": [],
   "source": [
    "merged = pd.merge(fill,df,on = 'movieId',how = 'inner')"
   ]
  },
  {
   "cell_type": "code",
   "execution_count": null,
   "id": "b122f733",
   "metadata": {},
   "outputs": [],
   "source": [
    "print(merged.head())"
   ]
  },
  {
   "cell_type": "code",
   "execution_count": 19,
   "id": "82de1c31",
   "metadata": {},
   "outputs": [
    {
     "name": "stdout",
     "output_type": "stream",
     "text": [
      "movieId                                 318\n",
      "count                                   317\n",
      "mean                               4.429022\n",
      "title      Shawshank Redemption, The (1994)\n",
      "genres                          Crime|Drama\n",
      "Name: 53, dtype: object\n"
     ]
    }
   ],
   "source": [
    "# Step 1: Group by movieid and calculate count and mean of ratings\n",
    "grouped_ratings_df = df1.groupby('movieId')['rating'].agg(['count', 'mean']).reset_index()\n",
    "\n",
    "# Filter movies with more than 50 ratings\n",
    "filtered_ratings_df = grouped_ratings_df[grouped_ratings_df['count'] > 50]\n",
    "\n",
    "# Step 2: Merge with movies dataframe\n",
    "merged_df = pd.merge(filtered_ratings_df, df, on='movieId', how='inner')\n",
    "\n",
    "# Step 3: Find the movie with the highest average rating\n",
    "most_popular_movie = merged_df.loc[merged_df['mean'].idxmax()]\n",
    "\n",
    "print(most_popular_movie)"
   ]
  },
  {
   "cell_type": "code",
   "execution_count": 20,
   "id": "dabf4464",
   "metadata": {},
   "outputs": [
    {
     "name": "stdout",
     "output_type": "stream",
     "text": [
      "     movieId  count                             title  \\\n",
      "61       356    329               Forrest Gump (1994)   \n",
      "53       318    317  Shawshank Redemption, The (1994)   \n",
      "49       296    307               Pulp Fiction (1994)   \n",
      "99       593    279  Silence of the Lambs, The (1991)   \n",
      "248     2571    278                Matrix, The (1999)   \n",
      "\n",
      "                          genres  \n",
      "61      Comedy|Drama|Romance|War  \n",
      "53                   Crime|Drama  \n",
      "49   Comedy|Crime|Drama|Thriller  \n",
      "99         Crime|Horror|Thriller  \n",
      "248       Action|Sci-Fi|Thriller  \n"
     ]
    }
   ],
   "source": [
    "# Step 1: Group by movieid and calculate count of ratings\n",
    "grouped_ratings_df = df1.groupby('movieId')['rating'].agg(['count']).reset_index()\n",
    "\n",
    "# Filter movies with more than 50 ratings\n",
    "filtered_ratings_df = grouped_ratings_df[grouped_ratings_df['count'] > 50]\n",
    "\n",
    "# Step 2: Merge with movies dataframe\n",
    "merged_df = pd.merge(filtered_ratings_df,df, on='movieId', how='inner')\n",
    "\n",
    "# Step 3: Sort by number of ratings and get top 5\n",
    "top_5_movies = merged_df.sort_values(by='count', ascending=False).head(5)\n",
    "\n",
    "# Display the top 5 movies\n",
    "print(top_5_movies)"
   ]
  },
  {
   "cell_type": "code",
   "execution_count": 21,
   "id": "dd90e956",
   "metadata": {},
   "outputs": [
    {
     "name": "stdout",
     "output_type": "stream",
     "text": [
      "The third most popular Sci-Fi movie based on the number of user ratings is: Jurassic Park (1993)\n"
     ]
    }
   ],
   "source": [
    "# Step 3: Filter Sci-Fi movies\n",
    "sci_fi_movies = merged_df[merged_df['genres'].str.contains('Sci-Fi')]\n",
    "\n",
    "# Step 4: Sort by number of ratings and get the third most popular Sci-Fi movie\n",
    "sorted_sci_fi_movies = sci_fi_movies.sort_values(by='count', ascending=False)\n",
    "third_most_popular_sci_fi_movie = sorted_sci_fi_movies.iloc[2]  # Third entry in the sorted list\n",
    "\n",
    "# Display the result\n",
    "title = third_most_popular_sci_fi_movie['title']\n",
    "print(f\"The third most popular Sci-Fi movie based on the number of user ratings is: {title}\")"
   ]
  },
  {
   "cell_type": "code",
   "execution_count": 22,
   "id": "99e70c9e",
   "metadata": {},
   "outputs": [],
   "source": [
    "import pandas as pd\n",
    "import requests\n",
    "from bs4 import BeautifulSoup"
   ]
  },
  {
   "cell_type": "code",
   "execution_count": 23,
   "id": "f8e19e8c",
   "metadata": {},
   "outputs": [],
   "source": [
    "movies_df = pd.read_csv('fill.csv')"
   ]
  },
  {
   "cell_type": "code",
   "execution_count": 24,
   "id": "00dd6cfa",
   "metadata": {},
   "outputs": [
    {
     "data": {
      "text/html": [
       "<div>\n",
       "<style scoped>\n",
       "    .dataframe tbody tr th:only-of-type {\n",
       "        vertical-align: middle;\n",
       "    }\n",
       "\n",
       "    .dataframe tbody tr th {\n",
       "        vertical-align: top;\n",
       "    }\n",
       "\n",
       "    .dataframe thead th {\n",
       "        text-align: right;\n",
       "    }\n",
       "</style>\n",
       "<table border=\"1\" class=\"dataframe\">\n",
       "  <thead>\n",
       "    <tr style=\"text-align: right;\">\n",
       "      <th></th>\n",
       "      <th>movieId</th>\n",
       "      <th>count</th>\n",
       "      <th>mean</th>\n",
       "    </tr>\n",
       "  </thead>\n",
       "  <tbody>\n",
       "    <tr>\n",
       "      <th>0</th>\n",
       "      <td>1</td>\n",
       "      <td>215</td>\n",
       "      <td>3.920930</td>\n",
       "    </tr>\n",
       "    <tr>\n",
       "      <th>1</th>\n",
       "      <td>2</td>\n",
       "      <td>110</td>\n",
       "      <td>3.431818</td>\n",
       "    </tr>\n",
       "    <tr>\n",
       "      <th>2</th>\n",
       "      <td>3</td>\n",
       "      <td>52</td>\n",
       "      <td>3.259615</td>\n",
       "    </tr>\n",
       "    <tr>\n",
       "      <th>3</th>\n",
       "      <td>6</td>\n",
       "      <td>102</td>\n",
       "      <td>3.946078</td>\n",
       "    </tr>\n",
       "    <tr>\n",
       "      <th>4</th>\n",
       "      <td>7</td>\n",
       "      <td>54</td>\n",
       "      <td>3.185185</td>\n",
       "    </tr>\n",
       "  </tbody>\n",
       "</table>\n",
       "</div>"
      ],
      "text/plain": [
       "   movieId  count      mean\n",
       "0        1    215  3.920930\n",
       "1        2    110  3.431818\n",
       "2        3     52  3.259615\n",
       "3        6    102  3.946078\n",
       "4        7     54  3.185185"
      ]
     },
     "execution_count": 24,
     "metadata": {},
     "output_type": "execute_result"
    }
   ],
   "source": [
    "movies_df.head()"
   ]
  },
  {
   "cell_type": "code",
   "execution_count": 25,
   "id": "95f1a9f3",
   "metadata": {},
   "outputs": [
    {
     "data": {
      "text/plain": [
       "(436, 3)"
      ]
     },
     "execution_count": 25,
     "metadata": {},
     "output_type": "execute_result"
    }
   ],
   "source": [
    "movies_df.shape"
   ]
  },
  {
   "cell_type": "code",
   "execution_count": 26,
   "id": "c2d1b367",
   "metadata": {},
   "outputs": [],
   "source": [
    "links_df = pd.read_csv('links.csv')"
   ]
  },
  {
   "cell_type": "code",
   "execution_count": 27,
   "id": "51c84be7",
   "metadata": {},
   "outputs": [
    {
     "data": {
      "text/html": [
       "<div>\n",
       "<style scoped>\n",
       "    .dataframe tbody tr th:only-of-type {\n",
       "        vertical-align: middle;\n",
       "    }\n",
       "\n",
       "    .dataframe tbody tr th {\n",
       "        vertical-align: top;\n",
       "    }\n",
       "\n",
       "    .dataframe thead th {\n",
       "        text-align: right;\n",
       "    }\n",
       "</style>\n",
       "<table border=\"1\" class=\"dataframe\">\n",
       "  <thead>\n",
       "    <tr style=\"text-align: right;\">\n",
       "      <th></th>\n",
       "      <th>movieId</th>\n",
       "      <th>imdbId</th>\n",
       "      <th>tmdbId</th>\n",
       "    </tr>\n",
       "  </thead>\n",
       "  <tbody>\n",
       "    <tr>\n",
       "      <th>0</th>\n",
       "      <td>1</td>\n",
       "      <td>114709</td>\n",
       "      <td>862.0</td>\n",
       "    </tr>\n",
       "    <tr>\n",
       "      <th>1</th>\n",
       "      <td>2</td>\n",
       "      <td>113497</td>\n",
       "      <td>8844.0</td>\n",
       "    </tr>\n",
       "    <tr>\n",
       "      <th>2</th>\n",
       "      <td>3</td>\n",
       "      <td>113228</td>\n",
       "      <td>15602.0</td>\n",
       "    </tr>\n",
       "    <tr>\n",
       "      <th>3</th>\n",
       "      <td>4</td>\n",
       "      <td>114885</td>\n",
       "      <td>31357.0</td>\n",
       "    </tr>\n",
       "    <tr>\n",
       "      <th>4</th>\n",
       "      <td>5</td>\n",
       "      <td>113041</td>\n",
       "      <td>11862.0</td>\n",
       "    </tr>\n",
       "  </tbody>\n",
       "</table>\n",
       "</div>"
      ],
      "text/plain": [
       "   movieId  imdbId   tmdbId\n",
       "0        1  114709    862.0\n",
       "1        2  113497   8844.0\n",
       "2        3  113228  15602.0\n",
       "3        4  114885  31357.0\n",
       "4        5  113041  11862.0"
      ]
     },
     "execution_count": 27,
     "metadata": {},
     "output_type": "execute_result"
    }
   ],
   "source": [
    "links_df.head()"
   ]
  },
  {
   "cell_type": "code",
   "execution_count": 28,
   "id": "c3a53994",
   "metadata": {},
   "outputs": [],
   "source": [
    "merged = pd.merge(movies_df,links_df, on = 'movieId')"
   ]
  },
  {
   "cell_type": "code",
   "execution_count": null,
   "id": "3e2393c0",
   "metadata": {},
   "outputs": [],
   "source": [
    "def scrape_imdb_rating(imdb_id):\n",
    "    url = f'https://www.imdb.com/title/{imdb_id}/'\n",
    "    headers = {'User-Agent': 'Mozilla/5.0'}\n",
    "    response = requests.get(url, headers=headers)\n",
    "    \n",
    "    if response.status_code == 200:\n",
    "        soup = BeautifulSoup(response.text, 'html.parser')\n",
    "        rating_tag = soup.find('span', itemprop='ratingValue')\n",
    "        if rating_tag:\n",
    "            return float(rating_tag.text)\n",
    "    return None\n",
    "\n",
    "# Scrape IMDb ratings and add to DataFrame\n",
    "merged['imdb_rating'] = merged['imdbId'].apply(scrape_imdb_rating)"
   ]
  },
  {
   "cell_type": "code",
   "execution_count": null,
   "id": "43045ab5",
   "metadata": {},
   "outputs": [],
   "source": [
    "# Drop rows where IMDb rating could not be retrieved\n",
    "valid_ratings_df = merged.dropna(subset=['imdb_rating'])\n",
    "\n",
    "# Find the movie with the highest IMDb rating\n",
    "highest_rated_movie = valid_ratings_df.loc[valid_ratings_df['imdb_rating'].idxmax()]\n",
    "\n",
    "# Get the movieid of the movie with the highest rating\n",
    "highest_rated_movie_id = highest_rated_movie['movieId']\n",
    "print(f\"The movieid of the movie with the highest IMDb rating is: {highest_rated_movie_id}\")"
   ]
  },
  {
   "cell_type": "code",
   "execution_count": null,
   "id": "44affcb6",
   "metadata": {},
   "outputs": [],
   "source": [
    "# Load the datasets\n",
    "movies_df = pd.read_csv('fill.csv')  # The filtered dataset with >50 ratings\n",
    "links_df = pd.read_csv('links.csv')\n",
    "\n",
    "# Merge datasets on movieid to get IMDb IDs\n",
    "merged_df = pd.merge(movies_df, links_df, on='movieId')\n",
    "\n",
    "# Function to scrape IMDb rating\n",
    "def scrape_imdb_rating(imdbId):\n",
    "    url = f'https://www.imdb.com/title/{imdbId}/'\n",
    "    headers = {'User-Agent': 'Mozilla/5.0'}\n",
    "    response = requests.get(url, headers=headers)\n",
    "    \n",
    "    if response.status_code == 200:\n",
    "        soup = BeautifulSoup(response.text, 'html.parser')\n",
    "        rating_tag = soup.find('span', itemprop='ratingValue')\n",
    "        if rating_tag:\n",
    "            return float(rating_tag.text)\n",
    "    return None\n",
    "\n",
    "# Scrape IMDb ratings and add to DataFrame\n",
    "merged_df['imdb_rating'] = merged_df['imdbId'].apply(scrape_imdb_rating)\n",
    "\n",
    "# Filter for Sci-Fi movies\n",
    "sci_fi_movies_df = merged_df[merged_df['genre'].str.contains('Sci-Fi')]\n",
    "\n",
    "# Drop rows where IMDb rating could not be retrieved\n",
    "valid_ratings_df = sci_fi_movies_df.dropna(subset=['imdb_rating'])\n",
    "\n",
    "# Find the Sci-Fi movie with the highest IMDb rating\n",
    "highest_rated_sci_fi_movie = valid_ratings_df.loc[valid_ratings_df['imdb_rating'].idxmax()]\n",
    "\n",
    "# Get the movieid of the highest-rated Sci-Fi movie\n",
    "highest_rated_sci_fi_movie_id = highest_rated_sci_fi_movie['movieId']\n",
    "print(f\"The movieid of the Sci-Fi movie with the highest IMDb rating is: {highest_rated_sci_fi_movie_id}\")"
   ]
  },
  {
   "cell_type": "code",
   "execution_count": null,
   "id": "e6bca602",
   "metadata": {},
   "outputs": [],
   "source": []
  }
 ],
 "metadata": {
  "kernelspec": {
   "display_name": "Python 3 (ipykernel)",
   "language": "python",
   "name": "python3"
  },
  "language_info": {
   "codemirror_mode": {
    "name": "ipython",
    "version": 3
   },
   "file_extension": ".py",
   "mimetype": "text/x-python",
   "name": "python",
   "nbconvert_exporter": "python",
   "pygments_lexer": "ipython3",
   "version": "3.9.12"
  }
 },
 "nbformat": 4,
 "nbformat_minor": 5
}
